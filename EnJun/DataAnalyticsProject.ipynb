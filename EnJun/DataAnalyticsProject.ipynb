{
 "cells": [
  {
   "cell_type": "markdown",
   "metadata": {},
   "source": [
    "### Title: \n",
    "#### Predict Costa Rican Household Poverty Level\n",
    "\n",
    "### Group Members:\n",
    "- Cheah Jun Yitt (WQD180107)\n",
    "- Choong En Jun (WQD180113)\n",
    "- Choo Jian Wei (WQD180124)\n",
    "- Tan Yin Yen (WQD180108)\n",
    "\n",
    "### Overview:\n",
    "Many social programs have a hard time making sure the right people are given enough aid. It’s especially tricky when a program focuses on the poorest segment of the population. The world’s poorest typically can’t provide the necessary income and expense records to prove that they qualify.   \n",
    "\n",
    "The Inter-American Development Bank (IDB) works to improve lives in Latin America and the Caribbean by providing financial and technical support for countries working to reduce poverty and inequality. Household poverty is an important key to IDB’s strategies. \n",
    "\n",
    "In Latin America, one popular method uses an algorithm to verify income qualification. It’s called the Proxy Means Test (or PMT). With PMT, agencies use a model that considers a family’s observable household attributes like the material of their walls and ceiling, or the assets found in the home to classify them and predict their level of need.\n",
    "\n",
    "<https://www.kaggle.com/c/costa-rican-household-poverty-prediction>\n"
   ]
  },
  {
   "cell_type": "markdown",
   "metadata": {},
   "source": [
    "### Data:\n",
    "\n",
    "<div style=\"float:left;\">\n",
    "    <table>\n",
    "    <tr><td>Title of Dataset</td><td>Costa Rican Household characteristics Dataset</td></tr>\n",
    "    <tr><td>Year</td><td>2018</td></tr>\n",
    "    <tr><td>Number of Observations</td><td>9557 observations on Train Dataset<br>23856 observations on Test Dataset</td></tr>\n",
    "    <tr><td>Number of Variables</td><td>142 columns</td></tr>\n",
    "    <tr><td>Source</td><td>Uploaded for Kaggle Community Competition by Inter-American Development Bank (IDB)<br>\n",
    "         <a href=\"https://www.kaggle.com/c/costa-rican-household-poverty-prediction/data\">https://www.kaggle.com/c/costa-rican-household-poverty-prediction/data</a></td></tr>\n",
    "    <tr><td>Purpose of Dataset</td><td>To challenge existing Proxy Means Test (PMT) algorithm on household poverty prediction</td></tr>\n",
    "    </table>\n",
    "</div>\n",
    "\n",
    "\n",
    "\n",
    "\n"
   ]
  },
  {
   "cell_type": "markdown",
   "metadata": {},
   "source": [
    "### Table of Content\n",
    "- Package Installation \n",
    "- Reading the Data\n",
    "- Data Cleaning and Data Preprocessing\n",
    "    - Dealing with Outliers\n",
    "    - Dealing with Missing Data\n",
    "- Visualization\n",
    "- Modelling\n",
    "- Model Evaluation\n",
    "- Conclusion"
   ]
  },
  {
   "cell_type": "markdown",
   "metadata": {},
   "source": [
    "# Package Installation\n",
    "### Installation of lightgbm package"
   ]
  },
  {
   "cell_type": "code",
   "execution_count": null,
   "metadata": {},
   "outputs": [],
   "source": [
    "# !pip install lightgbm"
   ]
  },
  {
   "cell_type": "markdown",
   "metadata": {},
   "source": [
    "### Load python packages"
   ]
  },
  {
   "cell_type": "code",
   "execution_count": null,
   "metadata": {
    "scrolled": true
   },
   "outputs": [],
   "source": [
    "# Data manipulation\n",
    "import pandas as pd\n",
    "import numpy as np\n",
    "\n",
    "# Visualization\n",
    "import matplotlib.pyplot as plt\n",
    "import seaborn as sns\n",
    "\n",
    "from IPython.core.interactiveshell import InteractiveShell\n",
    "# InteractiveShell.ast_node_interactivity = \"all\"\n",
    "pd.options.display.max_columns = 150\n",
    "\n",
    "#for machine learning\n",
    "from sklearn.model_selection import StratifiedKFold\n",
    "from sklearn import preprocessing\n",
    "import lightgbm as lgb\n",
    "\n",
    "import xgboost as xgb\n",
    "from sklearn.metrics import f1_score\n",
    "from sklearn.externals.joblib import Parallel, delayed\n",
    "from sklearn.base import clone\n",
    "from sklearn.ensemble import VotingClassifier, ExtraTreesClassifier, RandomForestClassifier\n",
    "from sklearn.utils import class_weight\n",
    "\n"
   ]
  },
  {
   "cell_type": "markdown",
   "metadata": {},
   "source": [
    "# Reading the Data"
   ]
  },
  {
   "cell_type": "code",
   "execution_count": null,
   "metadata": {
    "scrolled": false
   },
   "outputs": [],
   "source": [
    "train = pd.read_csv('../data/train.csv')\n",
    "train.info()\n",
    "train.head()"
   ]
  },
  {
   "cell_type": "code",
   "execution_count": null,
   "metadata": {
    "scrolled": false
   },
   "outputs": [],
   "source": [
    "test = pd.read_csv('../data/test.csv')\n",
    "test.info()\n",
    "test.head()"
   ]
  },
  {
   "cell_type": "markdown",
   "metadata": {},
   "source": [
    "# Data Cleaning and Data Pre-processing\n",
    "There are multiple discrepancies in the dataset. Also, we refer to the Kaggle discussion for additional insights regarding the data. \n",
    "<br>Following can be said about the raw dataset:\n",
    "<ol>\n",
    "  <li>Each line represents to an individual in the household</li>\n",
    "    <li>The target (poverty level) is segregated to 4 levels (1: extreme poverty, 2: moderate poverty, 3: vulnerable households, 4: non-vulnerable households)</li>\n",
    "    <li>There are individuals without household</li>\n",
    "    <li>There are individuals within the same household that does not share the same target poverty level</li>\n",
    "    <li>Prediction is scored based on head of household only</li>\n",
    "</ol>\n",
    "\n",
    "<br>\n",
    "Without futher due, we perform out own cleaning and preparation of the dataset\n",
    "\n"
   ]
  },
  {
   "cell_type": "code",
   "execution_count": null,
   "metadata": {
    "scrolled": false
   },
   "outputs": [],
   "source": [
    "train.describe()\n",
    "test.describe()\n"
   ]
  },
  {
   "cell_type": "markdown",
   "metadata": {},
   "source": [
    "## Dealing with Outliers\n",
    "**If we look carefully, There is an outlier for attribute rez_esc in test data.**"
   ]
  },
  {
   "cell_type": "code",
   "execution_count": null,
   "metadata": {},
   "outputs": [],
   "source": [
    "print(test.loc[:,\"rez_esc\"].describe())\n",
    "test.loc[test.loc[:,\"rez_esc\"]==99,\"rez_esc\"]"
   ]
  },
  {
   "cell_type": "markdown",
   "metadata": {},
   "source": [
    "We can see that there is only one outlier =99, the rest of the test data is okay.  \n",
    "According to answer from kaggle competition host, the value can be safely changed to 5.  \n",
    "<https://www.kaggle.com/c/costa-rican-household-poverty-prediction/discussion/61403>"
   ]
  },
  {
   "cell_type": "code",
   "execution_count": null,
   "metadata": {
    "scrolled": false
   },
   "outputs": [],
   "source": [
    "test.loc[test.loc[:,\"rez_esc\"]==99,\"rez_esc\"]=5\n",
    "test.loc[:,\"rez_esc\"].describe()"
   ]
  },
  {
   "cell_type": "markdown",
   "metadata": {},
   "source": [
    "## Dealing with Missing Data\n",
    "**Now we will deal with missing values in both test and train dataset.**  \n",
    "- We will first check for missing values in the columns"
   ]
  },
  {
   "cell_type": "code",
   "execution_count": null,
   "metadata": {
    "scrolled": false
   },
   "outputs": [],
   "source": [
    "train_na= pd.DataFrame((train.isnull().sum().values),index=train.columns, columns=['isNA']).sort_values(by=['isNA'],ascending=False)\n",
    "if train_na.loc[train_na.loc[:,'isNA']>0,:].shape[0]>1 :\n",
    "    train_na.loc[train_na.loc[:,'isNA']> 0,]\n",
    "else:\n",
    "    print('no NA in train set')\n",
    "\n",
    "test_na= pd.DataFrame((test.isnull().sum().values),index=test.columns, columns=['isNA']).sort_values(by=['isNA'],ascending=False)\n",
    "if train_na.loc[train_na.loc[:,'isNA']>0,:].shape[0]>1 :\n",
    "    test_na.loc[test_na.loc[:,'isNA']> 0,]\n",
    "else:\n",
    "    print('no NA in test set')"
   ]
  },
  {
   "cell_type": "markdown",
   "metadata": {},
   "source": [
    "**We can see the missing values are largely from:**\n",
    "\n",
    "- ***rez_esc: years behind in school:***\n",
    "\n",
    "- ***v18q1: number of tablets household owns***\n",
    "\n",
    "- ***v2a1: monthly rent payment***\n",
    "\n",
    "- ***meaneduc: average years of education for adults***\n",
    "\n",
    "- ***SQBmeaned is the square of meaneduc***\n"
   ]
  },
  {
   "cell_type": "markdown",
   "metadata": {},
   "source": [
    "For the variable ***rez_esc (years behind in school)***,  \n",
    "data is only available if the age of individual is between 7 to 17 years old.  \n",
    "We will set 0 to all other null values."
   ]
  },
  {
   "cell_type": "code",
   "execution_count": null,
   "metadata": {},
   "outputs": [],
   "source": [
    "rez_esc_age=train.loc[train['rez_esc'].isnull()==False, 'age']\n",
    "\n",
    "plt.hist(x=rez_esc_age,)\n",
    "plt.xticks(np.arange(min(rez_esc_age), max(rez_esc_age)+1, 1.0),rotation = 60),\n",
    "plt.ylabel('frequence of rez_esc')\n",
    "plt.xlabel('Age')\n",
    "plt.title('Non-null rez_esc Frequency according to age')\n",
    "plt.show()"
   ]
  },
  {
   "cell_type": "markdown",
   "metadata": {},
   "source": [
    "***v2a1: monthly rent payment***\n",
    "    \n",
    "-    this depends on tipovivi2 and tipovivi3, v2a1 is NA if tipovivi2 or tipovivi3 is 0\n",
    "    tipovivi2 (a true false statement if an individual owns the house and is paying installment). \n",
    "    tipovivi3 (a true false statement if an individual is renting the house). \n",
    "    We will assume 0 for NA in v2a1"
   ]
  },
  {
   "cell_type": "code",
   "execution_count": null,
   "metadata": {},
   "outputs": [],
   "source": [
    "tipos=[x for x in train if x.startswith('tipo')]\n",
    "rentNA_status=train.loc[train['v2a1'].isnull(), tipos].sum()\n",
    "plt.bar(tipos,rentNA_status,align='center')\n",
    "plt.xticks([0,1,2,3,4],['Owns and Paid off','Owns and Paying', 'Renting','Precarious','Other'],rotation = 60),\n",
    "plt.ylabel('Frequency')\n",
    "plt.title(\"Missing Rental 'v2a1' according to Home Ownership Status\")\n",
    "plt.show()"
   ]
  },
  {
   "cell_type": "markdown",
   "metadata": {},
   "source": [
    "***v18q1: number of tablets household owns***\n",
    "\n",
    "  -  This depends on v18q (a true false statement if an individual own a tablet). v18q1 is NA if v18q is 0\n",
    "    We will assume 0 for NA in v18q1"
   ]
  },
  {
   "cell_type": "code",
   "execution_count": null,
   "metadata": {},
   "outputs": [],
   "source": [
    "Tablet_status=train.loc[train['v18q1'].isnull(), 'v18q']\n",
    "plt.hist(x=Tablet_status)\n",
    "plt.xticks([0,1,2],['Do not Own a Table','Owns a Tablet'],rotation=60),\n",
    "plt.ylabel('Frequency missing value on v18q1')\n",
    "plt.xlabel('Individual Tablet Ownership (v18q)')\n",
    "plt.title('Missing value on household tablet ownership vs individual tablet ownership')\n",
    "plt.show()"
   ]
  },
  {
   "cell_type": "markdown",
   "metadata": {},
   "source": [
    "***meaneduc: average years of education for adults***\n",
    "  -  We will replace this with mode\n",
    "    \n",
    "***SQBmeaned is the square of meaneduc***\n",
    "  - replace with square of replaced meaneduc"
   ]
  },
  {
   "cell_type": "code",
   "execution_count": null,
   "metadata": {},
   "outputs": [],
   "source": [
    "train[\"meaneduc\"].isna().any()"
   ]
  },
  {
   "cell_type": "code",
   "execution_count": null,
   "metadata": {},
   "outputs": [],
   "source": [
    "try: \n",
    "    plt.figure(figsize=(10,5))\n",
    "    plt.hist(x=train['meaneduc'],bins=int(train['meaneduc'].max()))\n",
    "    plt.xticks(np.arange(min(train['meaneduc']), max(train['meaneduc'])),rotation=60),\n",
    "    plt.ylabel('Frequency')\n",
    "    plt.xlabel('average years of education for adults (18+)')\n",
    "    plt.title('Histogram for meaneduc')\n",
    "    plt.show()\n",
    "    \n",
    "except:\n",
    "    print(\"meaneduc contains NA.\")\n"
   ]
  },
  {
   "cell_type": "markdown",
   "metadata": {},
   "source": [
    "# Impute Missing Values\n",
    "1. Impute ***meaneduc*** with mode (mode = 6)\n",
    "2. Impute ***SQBmeaned*** with squared of mode of ***meaneduc*** (mode = 36)\n",
    "3. Impute ***rez_esc***, ***v18q1*** and ***v2a1*** with 0 "
   ]
  },
  {
   "cell_type": "code",
   "execution_count": null,
   "metadata": {
    "_kg_hide-input": false,
    "_kg_hide-output": true
   },
   "outputs": [],
   "source": [
    "train.loc[:,\"meaneduc\"].mode()\n",
    "#train: mode for meaneduc is 6 replace NA with 6, replace SQBmeaned NA to 36\n",
    "train.loc[train.loc[:,\"meaneduc\"].isnull()==True,\"meaneduc\"] = 6\n",
    "train.loc[train.loc[:,\"SQBmeaned\"].isnull()==True,\"SQBmeaned\"] = 36\n",
    "\n",
    "test.loc[:,\"meaneduc\"].mode()\n",
    "#test: mode for meaneduc is 6 replace NA with 6, replace SQBmeaned NA to 36\n",
    "test.loc[test.loc[:,\"meaneduc\"].isnull()==True,\"meaneduc\"] = 6\n",
    "test.loc[test.loc[:,\"SQBmeaned\"].isnull()==True,\"SQBmeaned\"] = 36\n",
    "\n",
    "\n",
    "#Replace all NA values for remaining 3 attributes with 0no\n",
    "train.loc[train.loc[:,\"rez_esc\"].isnull()==True,\"rez_esc\"] = 0\n",
    "train.loc[train.loc[:,\"v18q1\"].isnull()==True,\"v18q1\"] = 0\n",
    "train.loc[train.loc[:,\"v2a1\"].isnull()==True,\"v2a1\"] = 0\n",
    "\n",
    "test.loc[test.loc[:,\"rez_esc\"].isnull()==True,\"rez_esc\"] = 0\n",
    "test.loc[test.loc[:,\"v18q1\"].isnull()==True,\"v18q1\"] = 0\n",
    "test.loc[test.loc[:,\"v2a1\"].isnull()==True,\"v2a1\"] = 0\n"
   ]
  },
  {
   "cell_type": "markdown",
   "metadata": {},
   "source": [
    "## Check for Missing Values"
   ]
  },
  {
   "cell_type": "code",
   "execution_count": null,
   "metadata": {},
   "outputs": [],
   "source": [
    "#Check for missing values again:\n",
    "train_na= pd.DataFrame((train.isnull().sum().values),index=train.columns, columns=['isNA']).sort_values(by=['isNA'],ascending=False)\n",
    "if train_na.loc[train_na.loc[:,'isNA']>0,:].shape[0]>1 :\n",
    "    train_na.loc[train_na.loc[:,'isNA']> 0,]\n",
    "\n",
    "else:\n",
    "    print('No NA in train set')\n",
    "\n",
    "test_na= pd.DataFrame((test.isnull().sum().values),index=test.columns, columns=['isNA']).sort_values(by=['isNA'],ascending=False)\n",
    "if train_na.loc[train_na.loc[:,'isNA']>0,:].shape[0]>1 :\n",
    "    test_na.loc[test_na.loc[:,'isNA']> 0,]\n",
    "else:\n",
    "    print('No NA in test set')"
   ]
  },
  {
   "cell_type": "markdown",
   "metadata": {},
   "source": [
    "### Investigate if all individuals in the household have the same poverty target"
   ]
  },
  {
   "cell_type": "code",
   "execution_count": null,
   "metadata": {},
   "outputs": [],
   "source": [
    "target_Discrepancy=(train.groupby('idhogar')['Target'].nunique()>1)\n",
    "num_unique_households = train[\"idhogar\"].unique().shape[0]\n",
    "print('There are',target_Discrepancy.sum(),'households with contradicting targets, out of', num_unique_households, 'households in the train dataset.')"
   ]
  },
  {
   "cell_type": "markdown",
   "metadata": {},
   "source": [
    "**Let's see the data for 85 households that have discrepancy in target poverty level**"
   ]
  },
  {
   "cell_type": "code",
   "execution_count": null,
   "metadata": {},
   "outputs": [],
   "source": [
    "Discrepancy_Index=(train.groupby('idhogar')['Target'].transform('nunique')>1)\n",
    "HHID_Discrepancy=train.loc[Discrepancy_Index,'idhogar'].unique()\n",
    "#household with contradicting target\n",
    "train.loc[train['idhogar'].isin(HHID_Discrepancy),['idhogar','parentesco1','Target']].head()"
   ]
  },
  {
   "cell_type": "markdown",
   "metadata": {},
   "source": [
    "**Judging from the data, the household head target might not be necessary true. Although prediction scoring is based on household head target, we should be able to safely replace the household target using the mode target of the household.**\n"
   ]
  },
  {
   "cell_type": "code",
   "execution_count": null,
   "metadata": {},
   "outputs": [],
   "source": [
    "\n",
    "for HH in HHID_Discrepancy:\n",
    "    Targets= (train.loc[train['idhogar']==HH,'Target'])\n",
    "\n",
    "    if Targets.mode().shape[0] >1:\n",
    "        for i in Targets.index:\n",
    "            if train.loc[i,'parentesco1']==1:\n",
    "                HeadTarget= train.loc[i,\"Target\"]    \n",
    "        for i in Targets.index:\n",
    "            train.loc[i,'Target']=HeadTarget\n",
    "    elif Targets.mode().shape[0]==1:\n",
    "        for i in Targets.index:\n",
    "            TrueTarget=int(Targets.mode())\n",
    "            train.loc[i,'Target']=TrueTarget\n",
    "        \n"
   ]
  },
  {
   "cell_type": "markdown",
   "metadata": {},
   "source": [
    "**Check for household targets discrepancy again for confirmation**"
   ]
  },
  {
   "cell_type": "code",
   "execution_count": null,
   "metadata": {},
   "outputs": [],
   "source": [
    "target_Discrepancy=(train.groupby('idhogar')['Target'].nunique()>1)\n",
    "\n",
    "print('There are ',target_Discrepancy.sum(),'households with contradicting targets, out of 2988 households in the train dataset')\n",
    "\n",
    "train.head()\n",
    "train.shape"
   ]
  },
  {
   "cell_type": "markdown",
   "metadata": {},
   "source": [
    "**Remove (SQBescolari, SQBage, SQBHogar_ttal,SQBedjefe, SQBhogar_nin,SQBovercrowding, SQBdependency, SQBMeaned, agesq)**  \n",
    "There are 9 columns where the attributes are the squared of other attributes. We do not need those in our model as the model are smart enough to detect non-linear relationship.\n",
    "\n"
   ]
  },
  {
   "cell_type": "code",
   "execution_count": null,
   "metadata": {},
   "outputs": [],
   "source": [
    "train=train.drop(columns=train.columns[133:142],axis=1)\n",
    "test=test.drop(columns=test.columns[133:142],axis=1)"
   ]
  },
  {
   "cell_type": "code",
   "execution_count": null,
   "metadata": {},
   "outputs": [],
   "source": [
    "print(train.shape)\n",
    "print(test.shape)"
   ]
  },
  {
   "cell_type": "markdown",
   "metadata": {},
   "source": [
    "# Visualization"
   ]
  },
  {
   "cell_type": "markdown",
   "metadata": {},
   "source": [
    "## Household Level Features Visualization"
   ]
  },
  {
   "cell_type": "markdown",
   "metadata": {},
   "source": [
    "**We Can Segregate the attributes into different categories**<br>\n",
    "1st is by Household level or Individual level<br>\n",
    "2nd is by Numerical or Categorical True/False<br>\n",
    "\n",
    "So we will have 4 types of data<br>\n",
    "-Household Numerical<br>\n",
    "-Individual Numerical<br>\n",
    "-Household Categorical<br>\n",
    "-Individual Categorical<br>\n",
    "\n",
    "For simple EDA, we will only look at training dataset, and plot a box plot on the numerical household variables."
   ]
  },
  {
   "cell_type": "code",
   "execution_count": null,
   "metadata": {},
   "outputs": [],
   "source": [
    "#These are Household Numerical columns. Attribute \"Dependency\" is not included since it has some yes and no elements\n",
    "catColumnsHH= [\"v2a1\",\"rooms\",\"v18q1\",\"qmobilephone\",\"r4h3\",\"r4m3\",\"r4t3\",\"tamhog\",\"hhsize\",\"hogar_nin\",\"hogar_adul\",\n",
    "               \"hogar_mayor\",\"hogar_total\",\"meaneduc\",\"bedrooms\",\"overcrowding\"]"
   ]
  },
  {
   "cell_type": "code",
   "execution_count": null,
   "metadata": {},
   "outputs": [],
   "source": [
    "fig, ax =plt.subplots(6,3, figsize=(18,15))\n",
    "plt.subplots_adjust(top=2.0)\n",
    "x=0\n",
    "y=0\n",
    "for i in range(0,len(catColumnsHH)):\n",
    "    if (i>0) & (i %3==0):\n",
    "        x=x+1\n",
    "        y=0\n",
    "    sns.boxplot(x=\"Target\",y=catColumnsHH[i], data=train, ax=ax[x,y])\n",
    "    ax[x,y].title.set_text(catColumnsHH[i])\n",
    "    y=y+1\n"
   ]
  },
  {
   "cell_type": "markdown",
   "metadata": {},
   "source": [
    "**At one glance the box plot is useful compare the 4 targets' summary statistic of each variables plotted.**  \n",
    "So far, the box plot make sense as we look at the slight difference in the variable mean between targets.  \n",
    "1) number of mobile phone per househould - mean is lower in poverty level 1 and 2 indicating less affordability  \n",
    "2) number of children \"hogar_nin\" - mean is lower in poverty level 3 & 4 indicating less commitment  \n",
    "3) number of adults \"hogar_adul\" - mean is lower in poverty level 1 meaning less earning power  \n",
    "4) mean education \"mean educ: - mean has a upwarding bias from poverty level 1 to 4  \n",
    "5) overcrowding - mean has a decreasing bias from poverty level 1 to 4  \n"
   ]
  },
  {
   "cell_type": "markdown",
   "metadata": {},
   "source": [
    "## Visualize Living Conditions by Poverty Level"
   ]
  },
  {
   "cell_type": "markdown",
   "metadata": {},
   "source": [
    "**For this section, we use data points for head of household only. We want to avoid having frequencies that were inflated by the number of individuals in a house.**"
   ]
  },
  {
   "cell_type": "code",
   "execution_count": null,
   "metadata": {},
   "outputs": [],
   "source": [
    "cond_data = train.query(\"parentesco1==1\").copy()\n",
    "cond_data.shape"
   ]
  },
  {
   "cell_type": "markdown",
   "metadata": {},
   "source": [
    "\n",
    "### Visualize Various Household Conditions related Attributes by Poverty Level"
   ]
  },
  {
   "cell_type": "code",
   "execution_count": null,
   "metadata": {},
   "outputs": [],
   "source": [
    "wall = [\"paredblolad\",\"paredzocalo\",\"paredpreb\",\"pareddes\",\"paredmad\",\"paredzinc\",\"paredfibras\",\"paredother\"]\n",
    "floor = [\"pisomoscer\",\"pisocemento\",\"pisoother\",\"pisonatur\",\"pisonotiene\",\"pisomadera\"]\n",
    "roof = ['techozinc','techoentrepiso','techocane','techootro', 'cielorazo']\n",
    "water = [\"abastaguadentro\",\"abastaguafuera\",\"abastaguano\"]\n",
    "electric = [\"public\",\"planpri\",\"noelec\",\"coopele\"]\n",
    "toilet = ['sanitario1','sanitario2','sanitario3','sanitario5','sanitario6']\n",
    "energy = ['energcocinar1','energcocinar2','energcocinar3','energcocinar4']\n",
    "rubbish = ['elimbasu1','elimbasu2','elimbasu3','elimbasu4','elimbasu5','elimbasu6']\n",
    "wall_cond = ['epared1','epared2','epared3']\n",
    "roof_cond = ['etecho1','etecho2','etecho3']\n",
    "floor_cond = ['eviv1','eviv2','eviv3']\n",
    "\n",
    "col_types = [wall, floor, roof, water, electric, toilet, energy, rubbish, wall_cond, roof_cond, floor_cond]\n",
    "titles = ['wall', 'floor', 'roof', 'water', 'electric', 'toilet', 'energy', 'rubbish', 'wall condition', 'roof condition', 'floor condition']\n",
    "\n",
    "fig, ax =plt.subplots(len(col_types)//3 + 1, 3, figsize=(30,10))\n",
    "plt.subplots_adjust(top=2.0)\n",
    "x=0\n",
    "y=0\n",
    "for i, cols in enumerate(col_types):\n",
    "    if (i>0) & (i % 3==0):\n",
    "        x=x+1\n",
    "        y=0\n",
    "    title = titles[i]\n",
    "    plot_df = pd.melt(cond_data, id_vars=['Target'], value_vars=cols).groupby([\"Target\",\"variable\"]).apply(lambda x: np.mean(x))\n",
    "    plot_df[\"variable\"] = plot_df.index.get_level_values(1)\n",
    "    plot_df = plot_df.rename(columns = dict(value=\"Percentage Frequency\", variable = \"Attribute\"))\n",
    "    sns.barplot(x=\"Attribute\", y = \"Percentage Frequency\", hue=\"Target\", data=plot_df, ax=ax[x,y])\n",
    "    ax[x,y].title.set_text(title)\n",
    "    y=y+1\n",
    "\n"
   ]
  },
  {
   "cell_type": "markdown",
   "metadata": {},
   "source": [
    "Based on the plot above, Household with Target=4 tend to have a wall made of block or brick.<br>\n",
    "Also, Households with Target=4 tend to have floor made of mosaic, ceramic, terrazo. (pisomoscer = 1)<bR>\n",
    "    \n",
    "If we look at the living condition scoring variables for wall (epared1), roof (etecho1), and floor (eviv1), we can see that the households inclined towards extreme poverty level are highly concentrated towards bad living conditions for the three variables mentioned.\n",
    "\n"
   ]
  },
  {
   "cell_type": "markdown",
   "metadata": {},
   "source": [
    "## Visualize Features by Geographical Locations"
   ]
  },
  {
   "cell_type": "markdown",
   "metadata": {},
   "source": [
    "**As we have look at the features based on targets, we shall also view at it based on geographical locations.**"
   ]
  },
  {
   "cell_type": "code",
   "execution_count": null,
   "metadata": {
    "scrolled": false
   },
   "outputs": [],
   "source": [
    "region = [\"lugar1\",\"lugar2\",\"lugar3\",\"lugar4\",\"lugar5\",\"lugar6\"]\n",
    "area= [\"area1\",\"area2\"]\n",
    "\n",
    "col_types = [region, area]\n",
    "titles = ['region', 'area']\n",
    "\n",
    "fig, ax =plt.subplots(1,2, figsize=(15,5))\n",
    "plt.subplots_adjust(top=1.0)\n",
    "x=0\n",
    "y=0\n",
    "for i, cols in enumerate(col_types):\n",
    "    if (i>0) & (i % 3==0):\n",
    "        x=x+1\n",
    "        y=0\n",
    "    title = titles[i]\n",
    "    plot_df = pd.melt(cond_data, id_vars=['Target'], value_vars=cols).groupby([\"Target\",\"variable\"]).apply(lambda x: np.mean(x))\n",
    "    plot_df[\"variable\"] = plot_df.index.get_level_values(1)\n",
    "    plot_df = plot_df.rename(columns = dict(value=\"Percentage Frequency\", variable = \"Attribute\"))\n",
    "    sns.barplot(x=\"Attribute\", y = \"Percentage Frequency\", hue=\"Target\", data=plot_df, ax=ax[y])\n",
    "    ax[y].title.set_text(title)\n",
    "    y=y+1\n",
    "\n"
   ]
  },
  {
   "cell_type": "markdown",
   "metadata": {},
   "source": [
    "We can see that that area 1, urban area has a higher convenctration of non-vulnerable poverty level group.\n",
    "As for the regions, lugar 1 which is the central and has a healthy increasing population trend towards poverty non-vulnerabe group. \n",
    "Whereas in other region, lugar 2 to 6 population trend have concentration gradually decreasing from poverty extreme toward poverty non-vulnerable."
   ]
  },
  {
   "cell_type": "code",
   "execution_count": null,
   "metadata": {
    "scrolled": true
   },
   "outputs": [],
   "source": [
    "geoTrain= train.loc[train['parentesco1'] == 1, :]\n",
    "geoTrain['lugar'] = np.argmax(np.array(cond_data[[\"lugar1\",\"lugar2\",\"lugar3\",\"lugar4\",\"lugar5\",\"lugar6\"]]),\n",
    "                           axis = 1)\n",
    "geoTrain['lugar']=geoTrain['lugar'].replace({5:6,4:5,3:4,2:3,1:2,0:1})\n"
   ]
  },
  {
   "cell_type": "code",
   "execution_count": null,
   "metadata": {
    "scrolled": false
   },
   "outputs": [],
   "source": [
    "wall = [\"paredblolad\",\"paredzocalo\",\"paredpreb\",\"pareddes\",\"paredmad\",\"paredzinc\",\"paredfibras\",\"paredother\"]\n",
    "floor = [\"pisomoscer\",\"pisocemento\",\"pisoother\",\"pisonatur\",\"pisonotiene\",\"pisomadera\"]\n",
    "roof = ['techozinc','techoentrepiso','techocane','techootro', 'cielorazo']\n",
    "water = [\"abastaguadentro\",\"abastaguafuera\",\"abastaguano\"]\n",
    "electric = [\"public\",\"planpri\",\"noelec\",\"coopele\"]\n",
    "toilet = ['sanitario1','sanitario2','sanitario3','sanitario5','sanitario6']\n",
    "energy = ['energcocinar1','energcocinar2','energcocinar3','energcocinar4']\n",
    "rubbish = ['elimbasu1','elimbasu2','elimbasu3','elimbasu4','elimbasu5','elimbasu6']\n",
    "wall_cond = ['epared1','epared2','epared3']\n",
    "roof_cond = ['etecho1','etecho2','etecho3']\n",
    "floor_cond = ['eviv1','eviv2','eviv3']\n",
    "\n",
    "col_types = [wall, floor, roof, water, electric, toilet, energy, rubbish, wall_cond, roof_cond, floor_cond]\n",
    "titles = ['wall', 'floor', 'roof', 'water', 'electric', 'toilet', 'energy', 'rubbish', 'wall condition', 'roof condition', 'floor condition']\n",
    "\n",
    "fig, ax =plt.subplots(len(col_types)//3 + 1, 3, figsize=(30,10))\n",
    "plt.subplots_adjust(top=2.0)\n",
    "x=0\n",
    "y=0\n",
    "for i, cols in enumerate(col_types):\n",
    "    if (i>0) & (i % 3==0):\n",
    "        x=x+1\n",
    "        y=0\n",
    "    title = titles[i]\n",
    "    plot_df = pd.melt(geoTrain, id_vars=['lugar'], value_vars=cols).groupby([\"lugar\",\"variable\"]).apply(lambda x: np.mean(x))\n",
    "    plot_df[\"variable\"] = plot_df.index.get_level_values(1)\n",
    "    plot_df = plot_df.rename(columns = dict(value=\"Percentage Frequency\", variable = \"Attribute\"))\n",
    "    sns.barplot(x=\"Attribute\", y = \"Percentage Frequency\", hue=\"lugar\", data=plot_df, ax=ax[x,y])\n",
    "    ax[x,y].title.set_text(title)\n",
    "    y=y+1\n",
    "\n"
   ]
  },
  {
   "cell_type": "markdown",
   "metadata": {},
   "source": [
    "From the above plots, we can see that lugar 2 to 6 consistently tops the chart for bad condition of the wall (epared1), roof (etecho1), and floor (eviv1). Perhaps visually, we can deduce that Pacífico Central (lugar 3) and Brunca (lugar 4) have it worst among all other regions.   "
   ]
  },
  {
   "cell_type": "markdown",
   "metadata": {},
   "source": [
    "**Now let's look at numerical features based on geographical location to see if we can find anything interesting.**"
   ]
  },
  {
   "cell_type": "code",
   "execution_count": null,
   "metadata": {
    "scrolled": false
   },
   "outputs": [],
   "source": [
    "fig, ax =plt.subplots(6,3, figsize=(18,15))\n",
    "plt.subplots_adjust(top=2.0)\n",
    "x=0\n",
    "y=0\n",
    "for i in range(0,len(catColumnsHH)):\n",
    "    if (i>0) & (i %3==0):\n",
    "        x=x+1\n",
    "        y=0\n",
    "    sns.boxplot(x=\"lugar\",y=catColumnsHH[i], data=geoTrain, ax=ax[x,y])\n",
    "    ax[x,y].title.set_text(catColumnsHH[i])\n",
    "    y=y+1\n"
   ]
  },
  {
   "cell_type": "markdown",
   "metadata": {},
   "source": [
    "In general, the boxplot tells us what we already suspected. lugar 3 shows the highest mean for overcrowding indicating worst living conditions in this geographical region. "
   ]
  },
  {
   "cell_type": "markdown",
   "metadata": {},
   "source": [
    "# Feature Engineering"
   ]
  },
  {
   "cell_type": "markdown",
   "metadata": {},
   "source": [
    "**Since prediction is scored only for the household head. We need to make new features that is household level and not individual.**  \n",
    "**Besides, we have created a new scoring system for education level (*instlevel*), by giving higher score to individual that has completed tertiary education.**"
   ]
  },
  {
   "cell_type": "code",
   "execution_count": null,
   "metadata": {},
   "outputs": [],
   "source": [
    "#Setting new features for household specific in train data\n",
    "\n",
    "#Number of Adults not including seniors >65\n",
    "train['Adults']=train['hogar_adul']-train['hogar_mayor']\n",
    "#Number of children < 19yo and seniors>65\n",
    "train['Dependents']=train['hogar_nin']+train['hogar_mayor']\n",
    "#Number of teenager from 12 to 19\n",
    "train['Teenagers']=train['hogar_nin']-train['r4t1']\n",
    "#Dependency is number of dependents per adults. This replaces the original dependency data from dataset.\n",
    "train['dependency']=train['Dependents']/train['Adults']\n",
    "#Percentage of Adults in household\n",
    "train['P_Adults']=train['Adults']/train['hogar_total']\n",
    "#Percentage of Male Adults in household\n",
    "train['P_Adults_Male']=train['r4h3']/train['hogar_total']\n",
    "#Percentage Female Adults in household\n",
    "train['P_Adults_Female']=train['r4m3']/train['hogar_total']\n",
    "#Percentage Children <19yo in household\n",
    "train['P_Children']=train['hogar_nin']/train['hogar_total']\n",
    "#Percentage of Seniors in household\n",
    "train['P_Seniors']=train['hogar_mayor']/train['hogar_total']\n",
    "#Percentage of Teenagers in household\n",
    "train['P_Teenagers']=train['Teenagers']/train['hogar_total']\n",
    "#Rent per person in household\n",
    "train['RentHH']=train['v2a1']/train['hogar_total']\n",
    "#Rent per Adult in household\n",
    "train['RentAdults'] = train['v2a1']/train['Adults']\n",
    "train['RentAdults'] = train['RentAdults'].fillna(train['v2a1']) # Replace NA value with the Rent value itself (Assume Adults = 0 as Adults = 1, there has to be 1 adult to pay the Rent amount.)\n",
    "\n",
    "#Tablet per person in household\n",
    "train['Tablet_PP']=train['v18q1']/train['hogar_total']\n",
    "#Mobile Phone per person in household\n",
    "train['Phone_PP']=train['qmobilephone']/train['hogar_total']\n",
    "#Bedroom per person in household\n",
    "train['Bedroom_PP']=train['bedrooms']/train['hogar_total']\n",
    "#Appliance scoring. Higher the better\n",
    "train['Appliances']=train['refrig']+train['computer']+train['television']\n",
    "#Number of Appliances per person\n",
    "train['Appliances_PP']=train['Appliances']/test['hogar_total']\n",
    "\n",
    "#Household size Difference\n",
    "train['HHS_Diff']=train['tamviv']-train['hhsize']\n",
    "\n",
    "#Number of Adults per room\n",
    "train[\"AdultsPerRoom\"] = train['Adults']/train['rooms']\n",
    "#Number of Dependents per room\n",
    "train[\"DependentsPerRoom\"] = train['Dependents']/train['rooms']\n",
    "#Number of Teenagers per room\n",
    "train[\"TeenagersPerRoom\"] = train['Teenagers']/train['rooms']\n",
    "\n",
    "#Number of Males per room\n",
    "train[\"MalesPerRoom\"] = train['r4h3']/train['rooms']\n",
    "#Number of Females per room\n",
    "train[\"FemalesPerRoom\"] = train['r4m3']/train['rooms']\n",
    "\n",
    "#Percentage of rooms that are bedrooms\n",
    "train[\"BedroomPerRoom\"] =  train['bedrooms']/train['rooms']\n",
    "train[\"RentPerRoom\"] =  train['v2a1']/train['rooms']\n",
    "\n",
    "#Years of Schooling over Age\n",
    "train[\"Schooling_Age\"]  = train[\"escolari\"]/train[\"age\"]\n",
    "\n",
    "#Years behind schooling vs Years of schooling proportion\n",
    "train['SchoolingProp'] = train['rez_esc']/train['escolari']\n",
    "\n",
    "\n",
    "#New Scoring For Education Level\n",
    "train[\"EduLevel\"] = 0 \n",
    "train.loc[train[\"instlevel9\"] == 1,\"EduLevel\"] = 6\n",
    "train.loc[train[\"instlevel8\"] == 1,\"EduLevel\"] = 5 #higher scoring for completing tertiary education\n",
    "train.loc[train[\"instlevel7\"] == 1,\"EduLevel\"] = 3\n",
    "train.loc[train[\"instlevel5\"] == 1,\"EduLevel\"] = 2\n",
    "train.loc[(train[[\"instlevel4\",\"instlevel3\",\"instlevel6\"]].sum(axis = 1) > 0),\"EduLevel\"] = 1\n",
    "\n",
    "train.head()\n",
    "\n",
    "#We replicate the same for test data since we need the same features for prediction\n",
    "\n",
    "test['Adults']=test['hogar_adul']-test['hogar_mayor']\n",
    "test['Dependents']=test['hogar_nin']+test['hogar_mayor']\n",
    "test['Teenagers']=test['hogar_nin']-test['r4t1']\n",
    "test['dependency']=test['Dependents']/test['Adults']\n",
    "test['P_Adults']=test['Adults']/test['hogar_total']\n",
    "test['P_Adults_Male']=test['r4h3']/test['hogar_total']\n",
    "test['P_Adults_Female']=test['r4m3']/test['hogar_total']\n",
    "test['P_Children']=test['hogar_nin']/test['hogar_total']\n",
    "test['P_Seniors']=test['hogar_mayor']/test['hogar_total']\n",
    "test['P_Teenagers']=test['Teenagers']/test['hogar_total']\n",
    "test['RentHH']=test['v2a1']/test['hogar_total']\n",
    "\n",
    "test['RentAdults']=test['v2a1']/test['Adults']\n",
    "test['RentAdults'] = test['RentAdults'].fillna(test['v2a1']) # Replace NA value with the Rent value itself (Assume Adults = 0 as Adults = 1, there has to be 1 adult to pay the Rent amount.)\n",
    "\n",
    "test['Tablet_PP']=test['v18q1']/test['hogar_total']\n",
    "test['Phone_PP']=test['qmobilephone']/test['hogar_total']\n",
    "test['Bedroom_PP']=test['bedrooms']/test['hogar_total']\n",
    "test['Appliances']=test['refrig']+test['computer']+test['television']\n",
    "test['Appliances_PP']=test['Appliances']/test['hogar_total']\n",
    "test['HHS_Diff']=test['tamviv']-test['hhsize']\n",
    "\n",
    "test[\"AdultsPerRoom\"] = test['Adults']/test['rooms']\n",
    "test[\"DependentsPerRoom\"] = test['Dependents']/test['rooms']\n",
    "test[\"TeenagersPerRoom\"] = test['Teenagers']/test['rooms']\n",
    "\n",
    "test[\"MalesPerRoom\"] = test['r4h3']/test['rooms']\n",
    "test[\"FemalesPerRoom\"] = test['r4m3']/test['rooms']\n",
    "\n",
    "test[\"BedroomPerRoom\"] =  test['bedrooms']/test['rooms']\n",
    "test[\"RentPerRoom\"] =  test['v2a1']/test['rooms']\n",
    "\n",
    "test[\"Schooling_Age\"]  = test[\"escolari\"]/test[\"age\"]\n",
    "test['SchoolingProp'] = test['rez_esc']/test['escolari']\n",
    "\n",
    "#New Scoring For Education Level\n",
    "test[\"EduLevel\"] = 0 \n",
    "test.loc[test[\"instlevel9\"] == 1,\"EduLevel\"] = 6\n",
    "test.loc[test[\"instlevel8\"] == 1,\"EduLevel\"] = 5 #higher scoring for completing tertiary education\n",
    "test.loc[test[\"instlevel7\"] == 1,\"EduLevel\"] = 3\n",
    "test.loc[test[\"instlevel5\"] == 1,\"EduLevel\"] = 2\n",
    "test.loc[(test[[\"instlevel4\",\"instlevel3\",\"instlevel6\"]].sum(axis = 1) > 0),\"EduLevel\"] = 1\n",
    "\n",
    "test.head()"
   ]
  },
  {
   "cell_type": "markdown",
   "metadata": {},
   "source": [
    "## Aggregate Features at the Household Level\n",
    "**Now we want to aggregate existing features to be representable at the household level.**   \n",
    "1. We aggregate variables in 'List_Mean' by taking the mean across all individuals in their respective household.\n",
    "2. We aggregate variables in 'List_Summary' by taking the mean, standard deviation, min, max, and sum across all individuals in their respective household.\n",
    "3. We added 'age_range' and 'escolari_range', which calculates the range of age and years of schooling across all individuals in their respective household.\n"
   ]
  },
  {
   "cell_type": "code",
   "execution_count": null,
   "metadata": {},
   "outputs": [],
   "source": [
    "List_Mean = ['rez_esc', 'male', 'female', 'estadocivil1', 'estadocivil2', 'estadocivil3', 'estadocivil4', 'estadocivil5',\n",
    "             'estadocivil6', 'estadocivil7', 'parentesco2','parentesco3', 'parentesco4', 'parentesco5', 'parentesco6', 'parentesco7',\n",
    "             'parentesco8', 'parentesco9', 'parentesco10', 'parentesco11', 'parentesco12','instlevel1', 'instlevel2', 'instlevel3',\n",
    "             'instlevel4', 'instlevel5', 'instlevel6', 'instlevel7', 'instlevel8', 'instlevel9','overcrowding']\n",
    "\n",
    "List_Summary = ['age', 'escolari','dis','EduLevel', 'Schooling_Age']\n",
    "\n",
    "trainGP = pd.DataFrame()\n",
    "testGP = pd.DataFrame()\n",
    "\n",
    "for item in List_Mean:\n",
    "    group_train_mean = train[item].groupby(train['idhogar']).mean()\n",
    "    group_test_mean = test[item].groupby(test['idhogar']).mean()\n",
    "    new_col = item + '_mean'\n",
    "    trainGP[new_col] = group_train_mean\n",
    "    testGP[new_col] = group_test_mean\n",
    "\n",
    "for item in List_Summary:\n",
    "    for function in ['mean','std','min','max','sum']:\n",
    "        group_train = train[item].groupby(train['idhogar']).agg(function)\n",
    "        group_test = test[item].groupby(test['idhogar']).agg(function)\n",
    "        new_col = item + '_' + function\n",
    "        trainGP[new_col] = group_train\n",
    "        testGP[new_col] = group_test\n",
    "        \n",
    "#adding one final feature\n",
    "trainGP['age_extreme']=trainGP['age_max']-trainGP['age_min']\n",
    "testGP['age_extreme']=testGP['age_max']-testGP['age_min']\n",
    "trainGP['escolari_extreme']=trainGP['escolari_max']-trainGP['escolari_min']\n",
    "testGP['escolari_extreme']=testGP['escolari_max']-testGP['escolari_min']\n",
    "\n",
    "# Impute 0 to std columns (taking standard deviation on 1 value will yield NA)\n",
    "trainGP[\"age_std\"] = trainGP[\"age_std\"].fillna(0)\n",
    "trainGP[\"escolari_std\"] = trainGP[\"escolari_std\"].fillna(0)\n",
    "trainGP[\"dis_std\"] = trainGP[\"dis_std\"].fillna(0)\n",
    "trainGP[\"EduLevel_std\"] = trainGP[\"EduLevel_std\"].fillna(0)\n",
    "trainGP[\"Schooling_Age_std\"] = trainGP[\"Schooling_Age_std\"].fillna(0)\n",
    "\n",
    "testGP[\"age_std\"] = testGP[\"age_std\"].fillna(0)\n",
    "testGP[\"escolari_std\"] = testGP[\"escolari_std\"].fillna(0)\n",
    "testGP[\"dis_std\"] = testGP[\"dis_std\"].fillna(0)\n",
    "testGP[\"EduLevel_std\"] = testGP[\"EduLevel_std\"].fillna(0)\n",
    "testGP[\"Schooling_Age_std\"] = testGP[\"Schooling_Age_std\"].fillna(0)\n",
    "    \n",
    "trainGP.head()\n",
    "testGP.head()"
   ]
  },
  {
   "cell_type": "markdown",
   "metadata": {},
   "source": [
    "# Features about Living Conditions"
   ]
  },
  {
   "cell_type": "code",
   "execution_count": null,
   "metadata": {},
   "outputs": [],
   "source": [
    "#Sufficiency Features (self-defined conditions for a sufficient living conditions)\n",
    "\n",
    "# =1 if predominant material on the outside wall is block or brick\n",
    "# =1 if predominant material on the floor is mosaic, ceramic, terrazo\n",
    "# =1 if the house has ceiling\n",
    "# =1 if water provision inside the dwelling\n",
    "# =1 electricity from CNFL,ICE, ESPH/JASEC\n",
    "# =1 toilet connected to sewer or cesspool\n",
    "# =1 main source of energy used for cooking electricity\n",
    "# =1 if rubbish disposal mainly by tanker truck\n",
    "# =1 if walls are good\n",
    "# =1 if roof are good\n",
    "# =1 if floor are good\n",
    "\n",
    "train[\"GoodCondition\"] = train[\"paredblolad\"] + \\\n",
    "                                train[\"pisomoscer\"] + \\\n",
    "                                train[\"cielorazo\"] + \\\n",
    "                                train[\"abastaguadentro\"] + \\\n",
    "                                train[\"public\"] + \\\n",
    "                                train[\"sanitario2\"] + \\\n",
    "                                train[\"energcocinar2\"] + \\\n",
    "                                train[\"elimbasu1\"] + \\\n",
    "                                train[\"epared3\"] + \\\n",
    "                                train[\"etecho3\"] + \\\n",
    "                                train[\"eviv3\"] \n",
    "train[\"GoodCondition\"] = train[\"GoodCondition\"]/11   # Take the mean to get a GoodCondition score between 0 and 1     \n",
    "\n",
    "# =1 if predominant material on the outside wall is socket (wood, zinc or abesto) OR prefabricated or cement\n",
    "# =1 if predominant material on the roof is metal foil or zink\n",
    "# =1 if water provision outside the dwelling\n",
    "# =1 electricity from cooperative\n",
    "# =1 toilet connected to  septic tank\n",
    "# =1 main source of energy used for cooking gas\n",
    "#  =1 if rubbish disposal mainly by botan hollow or buried\n",
    "# =1 if walls are regular\n",
    "#  =1 if roof are regular\n",
    "#  =1 if floor are regular\n",
    "train[\"AverageCondition\"] = (train[\"paredzocalo\"] + train[\"paredpreb\"])/2 + \\\n",
    "                                train[\"techozinc\"] + \\\n",
    "                                train[\"abastaguafuera\"] + \\\n",
    "                                train[\"coopele\"] + \\\n",
    "                                train[\"sanitario3\"] + \\\n",
    "                                train[\"energcocinar3\"] + \\\n",
    "                                train[\"elimbasu2\"] + \\\n",
    "                                train[\"epared2\"] + \\\n",
    "                                train[\"etecho2\"] + \\\n",
    "                                train[\"eviv2\"] \n",
    "\n",
    "train[\"AverageCondition\"] = train[\"AverageCondition\"]/10   # Take the mean to get a GoodCondition score between 0 and 1     \n",
    "\n",
    "\n",
    "# =1 if predominant material on the outside wall is waste material OR wood OR zinc\n",
    "# =1 if predominant material on the floor is cement OR wood OR no floor\n",
    "# =1 if no water provision\n",
    "# =1 no electricity in the dwelling\n",
    "# =1 no toilet in the dwelling OR toilet connected to black hole or letrine\n",
    "# =1 no main source of energy used for cooking (no kitchen) OR  =1 main source of energy used for cooking wood charcoal\n",
    "# =1 if rubbish disposal mainly by burning\n",
    "# =1 if walls are bad\n",
    "# =1 if roof are bad\n",
    "# =1 if floor are bad\n",
    "train[\"BadCondition\"] = (train[\"pareddes\"] + train[\"paredmad\"] + train[\"paredzinc\"])/3 + \\\n",
    "                        (train[\"pisocemento\"] + train[\"pisonotiene\"] + train[\"pisomadera\"])/3 + \\\n",
    "                        train[\"abastaguano\"] + \\\n",
    "                        train[\"noelec\"] + \\\n",
    "                        (train[\"sanitario1\"] + train[\"sanitario5\"])/2 + \\\n",
    "                        (train[\"energcocinar1\"] + train[\"energcocinar4\"])/2 + \\\n",
    "                        train[\"elimbasu3\"] + \\\n",
    "                        train[\"epared1\"] + \\\n",
    "                        train[\"etecho1\"] + \\\n",
    "                        train[\"eviv1\"]\n",
    "\n",
    "train[\"BadCondition\"] = train[\"BadCondition\"]/10   # Take the mean to get a GoodCondition score between 0 and 1     \n",
    "\n",
    "# add the 3 features to the test set\n",
    "test[\"GoodCondition\"] = test[\"paredblolad\"] + \\\n",
    "                                test[\"pisomoscer\"] + \\\n",
    "                                test[\"cielorazo\"] + \\\n",
    "                                test[\"abastaguadentro\"] + \\\n",
    "                                test[\"public\"] + \\\n",
    "                                test[\"sanitario2\"] + \\\n",
    "                                test[\"energcocinar2\"] + \\\n",
    "                                test[\"elimbasu1\"] + \\\n",
    "                                test[\"epared3\"] + \\\n",
    "                                test[\"etecho3\"] + \\\n",
    "                                test[\"eviv3\"] \n",
    "test[\"GoodCondition\"] = test[\"GoodCondition\"]/11   # Take the mean to get a GoodCondition score between 0 and 1     \n",
    "\n",
    "test[\"AverageCondition\"] = (test[\"paredzocalo\"] + test[\"paredpreb\"])/2 + \\\n",
    "                                test[\"techozinc\"] + \\\n",
    "                                test[\"abastaguafuera\"] + \\\n",
    "                                test[\"coopele\"] + \\\n",
    "                                test[\"sanitario3\"] + \\\n",
    "                                test[\"energcocinar3\"] + \\\n",
    "                                test[\"elimbasu2\"] + \\\n",
    "                                test[\"epared2\"] + \\\n",
    "                                test[\"etecho2\"] + \\\n",
    "                                test[\"eviv2\"] \n",
    "\n",
    "test[\"AverageCondition\"] = test[\"AverageCondition\"]/10   # Take the mean to get a GoodCondition score between 0 and 1     \n",
    "\n",
    "test[\"BadCondition\"] = (test[\"pareddes\"] + test[\"paredmad\"] + test[\"paredzinc\"])/3 + \\\n",
    "                        (test[\"pisocemento\"] + test[\"pisonotiene\"] + test[\"pisomadera\"])/3 + \\\n",
    "                        test[\"abastaguano\"] + \\\n",
    "                        test[\"noelec\"] + \\\n",
    "                        (test[\"sanitario1\"] +test[\"sanitario5\"])/2 + \\\n",
    "                        (test[\"energcocinar1\"] + test[\"energcocinar4\"])/2 + \\\n",
    "                        test[\"elimbasu3\"] + \\\n",
    "                        test[\"epared1\"] + \\\n",
    "                        test[\"etecho1\"] + \\\n",
    "                        test[\"eviv1\"]\n",
    "\n",
    "test[\"BadCondition\"] = test[\"BadCondition\"]/10   # Take the mean to get a GoodCondition score between 0 and 1     "
   ]
  },
  {
   "cell_type": "markdown",
   "metadata": {},
   "source": [
    "**Now we merge the aggregated features, all existing features and added features for the head of household.**\n",
    "\n"
   ]
  },
  {
   "cell_type": "code",
   "execution_count": null,
   "metadata": {},
   "outputs": [],
   "source": [
    "trainGP = trainGP.reset_index()\n",
    "testGP = testGP.reset_index()\n",
    "\n",
    "trainML = pd.merge(train, trainGP, on='idhogar')\n",
    "testML = pd.merge(test, testGP, on='idhogar')\n",
    "\n",
    "trainML = trainML.query(\"parentesco1==1\") #use only head of household for prediction\n",
    "\n",
    "#fill all na as 0\n",
    "# trainML.fillna(value=0, inplace=True)\n",
    "# testML.fillna(value=0, inplace=True)\n",
    "\n",
    " #.query(\"idhogar==1\").head()\n",
    "# testML.head()\n",
    "\n",
    "train.shape, test.shape, trainGP.shape, testGP.shape,  trainML.shape, testML.shape "
   ]
  },
  {
   "cell_type": "markdown",
   "metadata": {},
   "source": [
    "## Check for Missing Values before Modelling\n"
   ]
  },
  {
   "cell_type": "code",
   "execution_count": null,
   "metadata": {},
   "outputs": [],
   "source": [
    "trainML.isna().any().any(),testML.isna().any().any()"
   ]
  },
  {
   "cell_type": "markdown",
   "metadata": {},
   "source": [
    "### Record the ID for submission"
   ]
  },
  {
   "cell_type": "code",
   "execution_count": null,
   "metadata": {},
   "outputs": [],
   "source": [
    "submission = testML.copy()[['Id']]"
   ]
  },
  {
   "cell_type": "markdown",
   "metadata": {},
   "source": [
    "### Data Reduction\n",
    "**Remove features that are irrelevant such as 'idhogar','Id','tamhog','r4t3','hhsize','hogar_adul','edjefe', and 'edjefa'.**"
   ]
  },
  {
   "cell_type": "code",
   "execution_count": null,
   "metadata": {},
   "outputs": [],
   "source": [
    "trainML.drop(columns=['idhogar','Id','tamhog','r4t3','hhsize','hogar_adul','edjefe','edjefa'],inplace=True)\n",
    "testML.drop(columns=['idhogar','Id','tamhog','r4t3','hhsize','hogar_adul','edjefe','edjefa'],inplace=True)\n"
   ]
  },
  {
   "cell_type": "markdown",
   "metadata": {},
   "source": [
    "### Correlation of features variables with the Target"
   ]
  },
  {
   "cell_type": "code",
   "execution_count": null,
   "metadata": {},
   "outputs": [],
   "source": [
    "correlation=trainML.corr()\n",
    "correlation = correlation['Target'].sort_values(ascending=False)\n",
    "print(f'The most 20 positively correlated feature: \\n{correlation.head(20)}')\n",
    "print('*'*50)\n",
    "print(f'The most 20 negatively correlated feature: \\n{correlation.tail(20)}')"
   ]
  },
  {
   "cell_type": "markdown",
   "metadata": {},
   "source": [
    "**Notice that there is a few attributes with NaN. We will remove them.**\n"
   ]
  },
  {
   "cell_type": "code",
   "execution_count": null,
   "metadata": {},
   "outputs": [],
   "source": [
    "columns_remove = ['elimbasu5','estadocivil1','parentesco1','parentesco2','parentesco3','parentesco4','parentesco5','parentesco6','parentesco7','parentesco8','parentesco9','parentesco10','parentesco11','parentesco12']\n",
    "trainML.drop(columns=columns_remove, inplace=True)\n",
    "testML.drop(columns=columns_remove, inplace=True)"
   ]
  },
  {
   "cell_type": "markdown",
   "metadata": {},
   "source": [
    "# Modelling\n",
    "**With the train and test data finally preprocessed. We will make use of the Light GBM model and parameters adjusted from MIsha Lisovyi.**    \n",
    "*source: <https://www.kaggle.com/mlisovyi/lighgbm-hyperoptimisation-with-f1-macro>*  \n",
    "**Note that we will not split the training data into train and test set, because the test performance can be assessed by submitting the submission file to Kaggle.**"
   ]
  },
  {
   "cell_type": "code",
   "execution_count": 38,
   "metadata": {},
   "outputs": [],
   "source": [
    "y = trainML['Target']\n",
    "X = trainML.drop(columns=['Target'])\n",
    "\n",
    "Xtest = testML.copy()\n"
   ]
  },
  {
   "cell_type": "code",
   "execution_count": 82,
   "metadata": {},
   "outputs": [
    {
     "data": {
      "text/plain": [
       "LGBMClassifier(boosting_type='gbdt', class_weight='balanced',\n",
       "        colsample_bytree=0.93, importance_type='split', learning_rate=0.01,\n",
       "        max_depth=10, metric='None', min_child_samples=95,\n",
       "        min_child_weight=0.001, min_split_gain=0.0, n_estimators=2500,\n",
       "        n_jobs=4, num_leaves=21, objective='multiclass', random_state=123,\n",
       "        reg_alpha=0.0, reg_lambda=0.0, silent=True, subsample=0.96,\n",
       "        subsample_for_bin=200000, subsample_freq=0)"
      ]
     },
     "execution_count": 82,
     "metadata": {},
     "output_type": "execute_result"
    }
   ],
   "source": [
    "from sklearn.metrics import f1_score\n",
    "def evaluate_macroF1_lgb(truth, predictions): \n",
    "    predictions = np.resize(predictions, new_shape=(4,len(truth)))\n",
    "    pred_labels = predictions.argmax(axis=0)\n",
    "    f1 = f1_score(truth, pred_labels, average='macro')\n",
    "    eval_name, val, is_higher_better = \"macroF1\", f1, True\n",
    "    return (eval_name, val, is_higher_better) \n",
    "\n",
    "#parameter value is copied\n",
    "# clf = lgb.LGBMClassifier(max_depth=-1, learning_rate=0.01, objective='multiclass',\n",
    "#                              random_state=123, silent=True, metric='None', \n",
    "#                              n_jobs=4, n_estimators=5000, class_weight='balanced',\n",
    "#                              colsample_bytree =  0.93, min_child_samples = 95, num_leaves = 15, subsample = 0.96)\n",
    "clf = lgb.LGBMClassifier(max_depth=10, learning_rate=0.01, objective='multiclass',\n",
    "                             random_state=123, silent=True, metric='None', \n",
    "                             n_jobs=4, n_estimators=2500, class_weight='balanced',\n",
    "                             colsample_bytree =  0.93, min_child_samples = 95, num_leaves = 21, subsample = 0.96)\n",
    "\n",
    "clf"
   ]
  },
  {
   "cell_type": "markdown",
   "metadata": {},
   "source": [
    "## Stratified K-Fold Cross-Validation\n",
    "**We will perform a Stratified K-Fold Cross Validation to train K = 5 Light GBM models and aggregate the predictions by means of 'voting'.**"
   ]
  },
  {
   "cell_type": "code",
   "execution_count": 97,
   "metadata": {},
   "outputs": [],
   "source": [
    "kfold = 5\n",
    "kf = StratifiedKFold(n_splits=kfold, shuffle=True, random_state = 123)"
   ]
  },
  {
   "cell_type": "markdown",
   "metadata": {},
   "source": [
    "**Quick check to make sure the train and test dataset have the same columns size**"
   ]
  },
  {
   "cell_type": "code",
   "execution_count": 99,
   "metadata": {},
   "outputs": [
    {
     "data": {
      "text/plain": [
       "((2973, 196), (23856, 196))"
      ]
     },
     "execution_count": 99,
     "metadata": {},
     "output_type": "execute_result"
    }
   ],
   "source": [
    "X.shape, Xtest.shape"
   ]
  },
  {
   "cell_type": "markdown",
   "metadata": {},
   "source": [
    "## Train the Model"
   ]
  },
  {
   "cell_type": "code",
   "execution_count": null,
   "metadata": {},
   "outputs": [],
   "source": [
    "val_predictions_logloss = []\n",
    "test_predictions_logloss = []\n",
    "test_predictions_logloss_proba = []\n",
    "for train_index, val_index in kf.split(X, y):\n",
    "    print(\"=======\")\n",
    "    X_train, X_val = X.iloc[train_index], X.iloc[val_index]\n",
    "    y_train, y_val = y.iloc[train_index], y.iloc[val_index]\n",
    "    clf.fit(X_train, y_train, eval_set=[(X_val, y_val)], eval_metric=\"logloss\",\n",
    "            early_stopping_rounds=400, verbose=200)\n",
    "    val_predictions_logloss.append(clf.predict(X_val)) \n",
    "    test_predictions_logloss.append(clf.predict(Xtest)) # store predictions on test set for Kaggle Submission\n",
    "    test_predictions_logloss_proba.append(clf.predict_proba(Xtest)) # store predictions probability on test set for Kaggle Submission\n"
   ]
  },
  {
   "cell_type": "markdown",
   "metadata": {},
   "source": [
    "# Features Importance\n",
    "**We visualize the features importance generated from the trained Light GBM model.**\n",
    "**The top 100 features were plotted.**"
   ]
  },
  {
   "cell_type": "code",
   "execution_count": 87,
   "metadata": {},
   "outputs": [
    {
     "data": {
      "text/plain": [
       "Text(0.5, 1.0, 'LightGBM feature importance')"
      ]
     },
     "execution_count": 87,
     "metadata": {},
     "output_type": "execute_result"
    },
    {
     "data": {
      "image/png": "[encoded data removed]",
      "text/plain": [
       "<Figure size 1440x1080 with 1 Axes>"
      ]
     },
     "metadata": {
      "needs_background": "light"
     },
     "output_type": "display_data"
    }
   ],
   "source": [
    "indices = np.argsort(clf.feature_importances_)[::-1]\n",
    "top_100_indices = indices[:100]\n",
    "\n",
    "# Visualise these with a barplot\n",
    "plt.subplots(figsize=(20, 15))\n",
    "g = sns.barplot(y=X.columns[top_100_indices], x = clf.feature_importances_[top_100_indices], orient='h')\n",
    "g.set_xlabel(\"Relative importance\",fontsize=12)\n",
    "g.set_ylabel(\"Features\",fontsize=12)\n",
    "g.tick_params(labelsize=9)\n",
    "g.set_title(\"LightGBM feature importance\")"
   ]
  },
  {
   "cell_type": "markdown",
   "metadata": {},
   "source": [
    "**From the plot above, we understand that the maximum and average age of individuals in a household, overcrowding, years of schooling, average education level and number of tablets own per person are among the most important features on predicting the poverty level of a household.**"
   ]
  },
  {
   "cell_type": "markdown",
   "metadata": {},
   "source": [
    "# Feature Selection\n",
    "**We will attempt to re-train the model by selecting the top 100 features based on the previously trained Light GBM model features importance output. The intuition is to remove variables that have very little influence in predicting the Target (poverty level) and give the model more focus on the important variables.**"
   ]
  },
  {
   "cell_type": "code",
   "execution_count": null,
   "metadata": {},
   "outputs": [],
   "source": [
    "X2 = X.iloc[:,top_100_indices]\n",
    "Xtest2 = testML.copy().iloc[:,top_100_indices]\n",
    "\n",
    "# Re-training on top 100 features\n",
    "test_predictions2 = []\n",
    "test_predictions_proba2 = []\n",
    "top100_lgbm_list = []\n",
    "for train_index, val_index in kf.split(X2, y):\n",
    "    print(\"=======\")\n",
    "    X_train, X_val = X2.iloc[train_index], X2.iloc[val_index]\n",
    "    y_train, y_val = y.iloc[train_index], y.iloc[val_index]\n",
    "    clf.fit(X_train, y_train, eval_set=[(X_val, y_val)], eval_metric=\"logloss\",\n",
    "            early_stopping_rounds=400, verbose=200)\n",
    "    top100_lgbm_list.append(clf)\n",
    "    test_predictions2.append(clf.predict(Xtest2)) # store predictions on test set for Kaggle Submission\n",
    "    test_predictions_proba2.append(clf.predict_proba(Xtest2)) \n"
   ]
  },
  {
   "cell_type": "code",
   "execution_count": 89,
   "metadata": {},
   "outputs": [
    {
     "data": {
      "text/plain": [
       "4    0.561536\n",
       "3    0.187584\n",
       "2    0.164571\n",
       "1    0.086310\n",
       "Name: Target, dtype: float64"
      ]
     },
     "execution_count": 89,
     "metadata": {},
     "output_type": "execute_result"
    }
   ],
   "source": []
  },
  {
   "cell_type": "markdown",
   "metadata": {},
   "source": [
    "# Submission: Prediction on Test Data"
   ]
  },
  {
   "cell_type": "markdown",
   "metadata": {},
   "source": [
    "**We take the mean of the predictions made by the 5 models we trained earlier using 5-fold Stratified cross validation.**"
   ]
  },
  {
   "cell_type": "code",
   "execution_count": null,
   "metadata": {},
   "outputs": [],
   "source": [
    "# All Features Model Predictions using Logloss\n",
    "submission_full_logloss = submission.copy()\n",
    "voted_test_predictions = np.apply_along_axis(lambda x: np.bincount(x).argmax(), axis=0, arr=test_predictions_logloss) # Take the mode\n",
    "submission_full_logloss['Target'] = np.array(voted_test_predictions).astype(int)\n",
    "submission_full_logloss.to_csv(\"submission_full_logloss_06.csv\", index=False)\n",
    "submission_full_logloss['Target'].value_counts()/submission_full_logloss['Target'].value_counts().sum()"
   ]
  },
  {
   "cell_type": "markdown",
   "metadata": {},
   "source": [
    "**We make another attempt by taking the mode of the predictions made by the 5 models we trained earlier using 5-fold Stratified cross validation.**"
   ]
  },
  {
   "cell_type": "code",
   "execution_count": 57,
   "metadata": {},
   "outputs": [
    {
     "data": {
      "text/plain": [
       "4    16569\n",
       "2     3976\n",
       "3     2181\n",
       "1     1130\n",
       "Name: Target, dtype: int64"
      ]
     },
     "execution_count": 57,
     "metadata": {},
     "output_type": "execute_result"
    }
   ],
   "source": [
    "# All Features Model Predictions\n",
    "submission_full = submission.copy()\n",
    "\n",
    "# Vote on the final target using Mode\n",
    "test_pred_df = pd.DataFrame(test_predictions)\n",
    "voted_test_predictions = test_pred_df.T.mode(axis = 1).iloc[:,0].values\n",
    "\n",
    "submission_full['Target'] = np.array(voted_test_predictions).astype(int)\n",
    "submission_full['Target'].value_counts()\n"
   ]
  },
  {
   "cell_type": "code",
   "execution_count": 52,
   "metadata": {},
   "outputs": [
    {
     "data": {
      "text/plain": [
       "4    16504\n",
       "2     3922\n",
       "3     2250\n",
       "1     1180\n",
       "Name: Target, dtype: int64"
      ]
     },
     "execution_count": 52,
     "metadata": {},
     "output_type": "execute_result"
    }
   ],
   "source": [
    "# All Features Model Predictions using Logloss\n",
    "submission_full_logloss = submission.copy()\n",
    "voted_test_predictions = np.apply_along_axis(lambda x: np.bincount(x).argmax(), axis=0, arr=test_predictions2) # Take the mode\n",
    "submission_full_logloss['Target'] = np.array(voted_test_predictions).astype(int)\n",
    "submission_full_logloss.to_csv(\"submission_part_logloss_06.csv\", index=False)\n",
    "submission_full_logloss['Target'].value_counts()/submission_full_logloss['Target'].value_counts().sum()"
   ]
  },
  {
   "cell_type": "markdown",
   "metadata": {},
   "source": [
    "**The DataFrame containing the Predictions on the Test Data is saved to a csv for submission in Kaggle.**  \n",
    "*Competition Leaderboard: <https://www.kaggle.com/c/costa-rican-household-poverty-prediction/leaderboard>*"
   ]
  },
  {
   "cell_type": "code",
   "execution_count": 58,
   "metadata": {},
   "outputs": [],
   "source": [
    "submission_full.to_csv('submission_lgb_10.csv',index=False)\n",
    "submission_mode.to_csv('submission_lgb_11.csv',index=False)\n",
    "\n"
   ]
  },
  {
   "cell_type": "code",
   "execution_count": null,
   "metadata": {},
   "outputs": [],
   "source": [
    "# Test Result:\n",
    "submission_mode.head()"
   ]
  },
  {
   "cell_type": "markdown",
   "metadata": {},
   "source": [
    "### Test Performance"
   ]
  },
  {
   "cell_type": "markdown",
   "metadata": {},
   "source": [
    "# Conclusion\n",
    "The highest score in this Kaggle competition is slightly below 0.5, that is hardly good. \n",
    "\n",
    "One of the particpants, <a href=\"https://www.kaggle.com/willkoehrsen/a-complete-introduction-and-walkthrough\">Will Koehrsen</a> has plotted a PCA plot and mentioned:\n",
    "   <body>\n",
    "      <img src=\"https://www.kaggleusercontent.com/kf/5196152/eyJhbGciOiJkaXIiLCJlbmMiOiJBMTI4Q0JDLUhTMjU2In0..-8HLHhWco2POA5ts82e6fA.4CiL2bLptXJ4ZmejyBrX0rO3dqFSs2AGfZA-yQp8G_cD86tY5CdY0FlwRNxdQsURgAeIsnYt2RfmCmzrR8kb-lsEvGTutGy1NN--K6p__ZEDGFV7k0GVqHcXUkYf759g7BElrn4LW4brds9R_uEjDFsU5coC9Wn7_OCJLR3x-apg0P032zXYiANNbUPoU5Dn.CdvKtj0MO30zQd4ylfIMkA/__results___files/__results___332_1.png\" alt=\"Site Logo\" width=\"300\" height=\"300\">\n",
    "   </body>\n",
    "   <blockquote>It's difficult to see much clustering in these plots, which indicates that separating the poverty levels is hard given the available data. Machine learning models are only as effective as the data we give to them, and sometimes the data does not have enough information.</blockquote>\n",
    "\n",
    "It is true that based on the exploration on the data that we have performed, most of the attributes (toal 142 columns) are not significant in helping with predicting poverty class. On the original data given, there are many discrepancy in the data and raise some doubts on the quality of the data collected. \n",
    "\n",
    "On the bright side, all good things have to start from step one. This competition had combined the bright minds on kaggle and brought about great insights and perspective on what features might be important and what might be not. The highest scoring kernels are consistenly product of a few machine learning methods such as Light GBM and XGboost. While the list of features importance varies accross machine learning models and on how participants preprocess their data, there are a few that frequent the top feature importance list such as:<br>\n",
    "1) mean education<br>\n",
    "2) dependency<br>\n",
    "\n",
    "Roads are not built in a day. With the knowledge sharing available on kaggle kernels, The Inter-American Development Bank (IDB)  organizer can make data driven decision on what data to collect and what not to collect. That will help them to place more emphasis on the more important task and hopefully develop a much better set of data through selective collection. "
   ]
  },
  {
   "cell_type": "code",
   "execution_count": null,
   "metadata": {},
   "outputs": [],
   "source": []
  }
 ],
 "metadata": {
  "kernelspec": {
   "display_name": "Python 3",
   "language": "python",
   "name": "python3"
  },
  "language_info": {
   "codemirror_mode": {
    "name": "ipython",
    "version": 3
   },
   "file_extension": ".py",
   "mimetype": "text/x-python",
   "name": "python",
   "nbconvert_exporter": "python",
   "pygments_lexer": "ipython3",
   "version": "3.7.1"
  }
 },
 "nbformat": 4,
 "nbformat_minor": 2
}
